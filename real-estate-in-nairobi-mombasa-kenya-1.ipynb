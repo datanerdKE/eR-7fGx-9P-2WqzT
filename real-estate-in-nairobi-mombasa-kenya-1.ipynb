{
 "cells": [
  {
   "cell_type": "markdown",
   "metadata": {},
   "source": [
    "### **Import Packages**"
   ]
  },
  {
   "cell_type": "code",
   "execution_count": 4,
   "metadata": {
    "execution": {
     "iopub.execute_input": "2024-08-23T14:52:22.434842Z",
     "iopub.status.busy": "2024-08-23T14:52:22.434443Z",
     "iopub.status.idle": "2024-08-23T14:52:29.845852Z",
     "shell.execute_reply": "2024-08-23T14:52:29.844487Z",
     "shell.execute_reply.started": "2024-08-23T14:52:22.434811Z"
    },
    "trusted": true
   },
   "outputs": [],
   "source": [
    "# Import Packages\n",
    "from bs4 import BeautifulSoup\n",
    "from datetime import datetime \n",
    "import requests   \n",
    "import pandas as pd \n",
    "import numpy as np\n",
    "from tqdm import trange\n",
    "pd.set_option('display.max_rows',1000)\n",
    "import time\n",
    "import random\n",
    "from google.cloud import bigquery"
   ]
  },
  {
   "cell_type": "markdown",
   "metadata": {},
   "source": [
    "### **Initialize Client**"
   ]
  },
  {
   "cell_type": "code",
   "execution_count": 5,
   "metadata": {
    "execution": {
     "iopub.execute_input": "2024-08-23T14:53:00.054220Z",
     "iopub.status.busy": "2024-08-23T14:53:00.053584Z",
     "iopub.status.idle": "2024-08-23T14:53:00.060496Z",
     "shell.execute_reply": "2024-08-23T14:53:00.058905Z",
     "shell.execute_reply.started": "2024-08-23T14:53:00.054186Z"
    },
    "trusted": true
   },
   "outputs": [],
   "source": [
    "# initialize client object\n",
    "client = bigquery.Client()"
   ]
  },
  {
   "cell_type": "markdown",
   "metadata": {},
   "source": [
    "### **Scrape Real Estate Listings in Nairobi, Kenya**"
   ]
  },
  {
   "cell_type": "markdown",
   "metadata": {},
   "source": [
    "#### **1.1 Apartments for Rent in Nairobi**"
   ]
  },
  {
   "cell_type": "code",
   "execution_count": 7,
   "metadata": {},
   "outputs": [],
   "source": [
    "sort_orders = [\n",
    "    'propertytypes=houses,apartments-flats,townhouses',\n",
    "    'propertytypes=houses,apartments-flats,townhouses&SortOrder=PriceDescending',\n",
    "    'propertytypes=houses,apartments-flats,townhouses&SortOrder=AgeAscending',\n",
    "    'propertytypes=houses,apartments-flats,townhouses&SortOrder=PropertyType',\n",
    "    'propertytypes=houses,apartments-flats,townhouses&SortOrder=SizeAscending'\n",
    "]"
   ]
  },
  {
   "cell_type": "code",
   "execution_count": null,
   "metadata": {
    "execution": {
     "iopub.execute_input": "2024-08-22T12:03:55.691067Z",
     "iopub.status.busy": "2024-08-22T12:03:55.690653Z",
     "iopub.status.idle": "2024-08-22T12:04:29.459114Z",
     "shell.execute_reply": "2024-08-22T12:04:29.457829Z",
     "shell.execute_reply.started": "2024-08-22T12:03:55.691033Z"
    },
    "trusted": true
   },
   "outputs": [
    {
     "name": "stderr",
     "output_type": "stream",
     "text": [
      "  0%|          | 0/1 [00:00<?, ?it/s]"
     ]
    },
    {
     "name": "stderr",
     "output_type": "stream",
     "text": [
      "100%|██████████| 1/1 [00:51<00:00, 51.25s/it]\n"
     ]
    }
   ],
   "source": [
    "# Initialize DataFrame outside the loop\n",
    "bigdata = pd.DataFrame()\n",
    "selected_order = random.choice(sort_orders)\n",
    "\n",
    "try:\n",
    "    for page in trange(1,1500):\n",
    "        counties = ['nairobi']\n",
    "        furnished = ['true','false']\n",
    "        rental_rates = ['day','month','week','year']\n",
    "        \n",
    "        for county in counties:\n",
    "            for furnish in furnished:\n",
    "                for rate in rental_rates:\n",
    "                    \n",
    "                    # specify website url \n",
    "                    url = 'https://www.property24.co.ke/property-to-rent-in-'+str(county)+'-p95?rentalterm='+str(rate)+'&isfurnished='+str(furnish)+'&' + str(selected_order) + '&Page=' + str(page)\n",
    "                    req = requests.get(url, timeout=3600).text \n",
    "                    soup = BeautifulSoup(req,'lxml')\n",
    "                    listings = soup.find_all('span',class_='p24_content')\n",
    "\n",
    "                    for listing in listings:\n",
    "                        try:\n",
    "                            property_title = listing.find('span',class_='p24_propertyTitle').text.strip()\n",
    "                            property_description = listing.find('span', class_='p24_excerpt').text.strip()\n",
    "                            feature_details = listing.find_all('span', class_='p24_featureDetails')\n",
    "                            features = str({feature['title']: feature.text.strip() for feature in feature_details if 'title' in feature.attrs})\n",
    "                            property_availability = 'For Rent'\n",
    "                            property_location = listing.find('span',class_='p24_location').text.strip()\n",
    "                            property_address = listing.find('span',class_='p24_address').text.strip()\n",
    "                            try:\n",
    "                                floor_size = listing.find('span', class_='p24_size', title='Floor Size').text.strip()\n",
    "                            except Exception as e:\n",
    "                                floor_size = np.NAN\n",
    "                            furnished = furnish\n",
    "                            rental_rate = rate\n",
    "                            property_price = listing.find('span',class_='p24_price').text.strip()\n",
    "                            last_scraped = datetime.now()\n",
    "                            \n",
    "                            # Create DataFrame\n",
    "                            data = pd.DataFrame({\n",
    "                                'county':[county],\n",
    "                                'property_title':[property_title],\n",
    "                                'property_description':[property_description],\n",
    "                                'features':[features],\n",
    "                                'property_availability':[property_availability],\n",
    "                                'property_location':[property_location],\n",
    "                                'property_address':[property_address],\n",
    "                                'floor_size':[floor_size],\n",
    "                                'furnished':[furnished],\n",
    "                                'rental_rate':[rental_rate],\n",
    "                                'property_price':[property_price],\n",
    "                                'last_scraped':[last_scraped]\n",
    "                            })\n",
    "\n",
    "                            # Append data to bigdata DataFrame\n",
    "                            bigdata = pd.concat([bigdata,data],ignore_index=True)\n",
    "                            \n",
    "                        except Exception as e:\n",
    "                            pass            \n",
    "\n",
    "    # Handle Database Import Error\n",
    "    table_id = 'project-adrian-julius-aluoch.cronjobs.real_estate_data'\n",
    "    job = client.load_table_from_dataframe(bigdata,table_id)\n",
    "    while job.state != 'DONE':\n",
    "        time.sleep(4)\n",
    "        job.reload()\n",
    "        print(f\"Data Upload Status : {job.state}\")\n",
    "\n",
    "except Exception as e:\n",
    "    pass"
   ]
  },
  {
   "cell_type": "markdown",
   "metadata": {},
   "source": [
    "#### **1.2 Apartmensts for Sale in Nairobi**"
   ]
  },
  {
   "cell_type": "code",
   "execution_count": null,
   "metadata": {
    "execution": {
     "iopub.execute_input": "2024-08-22T12:04:53.347294Z",
     "iopub.status.busy": "2024-08-22T12:04:53.346375Z",
     "iopub.status.idle": "2024-08-22T12:05:03.370724Z",
     "shell.execute_reply": "2024-08-22T12:05:03.369338Z",
     "shell.execute_reply.started": "2024-08-22T12:04:53.347254Z"
    },
    "trusted": true
   },
   "outputs": [
    {
     "name": "stderr",
     "output_type": "stream",
     "text": [
      "100%|██████████| 1/1 [00:03<00:00,  3.51s/it]\n"
     ]
    },
    {
     "name": "stdout",
     "output_type": "stream",
     "text": [
      "Data Upload Status : DONE\n"
     ]
    }
   ],
   "source": [
    "# Initialize DataFrame outside the loop\n",
    "bigdata = pd.DataFrame()\n",
    "selected_order = random.choice(sort_orders)\n",
    "\n",
    "try:\n",
    "    for page in trange(1,1500):\n",
    "        counties = ['nairobi']\n",
    "        \n",
    "        for county in counties:\n",
    "            # specify website url \n",
    "            url = 'https://www.property24.co.ke/property-for-sale-in-'+str(county)+'-p95?' + str(selected_order) + '&Page=' + str(page)\n",
    "            req = requests.get(url, timeout=3600).text \n",
    "            soup = BeautifulSoup(req,'lxml')\n",
    "            listings = soup.find_all('span',class_='p24_content')\n",
    "\n",
    "            for listing in listings:\n",
    "                try:\n",
    "                    property_title = listing.find('span',class_='p24_propertyTitle').text.strip()\n",
    "                    property_description = listing.find('span', class_='p24_excerpt').text.strip()\n",
    "                    feature_details = listing.find_all('span', class_='p24_featureDetails')\n",
    "                    features = str({feature['title']: feature.text.strip() for feature in feature_details if 'title' in feature.attrs})\n",
    "                    property_availability = 'For Sale'\n",
    "                    property_location = listing.find('span',class_='p24_location').text.strip()\n",
    "                    property_address = listing.find('span',class_='p24_address').text.strip()\n",
    "                    try:\n",
    "                        floor_size = listing.find('span',class_='p24_size').text.strip()\n",
    "                    except Exception as e:\n",
    "                        floor_size = np.NAN\n",
    "                    property_price = listing.find('span',class_='p24_price').text.strip()\n",
    "                    rental_rate = np.NAN\n",
    "                    furnished = np.NAN\n",
    "                    last_scraped = datetime.now()\n",
    "                    \n",
    "                    # Create DataFrame\n",
    "                    data = pd.DataFrame({\n",
    "                        'county':[county],\n",
    "                        'property_title':[property_title],\n",
    "                        'property_description':[property_description],\n",
    "                        'features':[features],\n",
    "                        'property_availability':[property_availability],\n",
    "                        'property_location':[property_location],\n",
    "                        'property_address':[property_address],\n",
    "                        'floor_size':[floor_size],\n",
    "                        'furnished':[furnished],\n",
    "                        'rental_rate':[rental_rate],\n",
    "                        'property_price':[property_price],\n",
    "                        'last_scraped':[last_scraped]\n",
    "                    })\n",
    "\n",
    "                    # Append data to bigdata DataFrame\n",
    "                    bigdata = pd.concat([bigdata,data],ignore_index=True)\n",
    "                    \n",
    "                except Exception as e:\n",
    "                    pass   \n",
    "\n",
    "    # Handle Database Import Error\n",
    "    table_id = 'project-adrian-julius-aluoch.cronjobs.real_estate_data'\n",
    "    job = client.load_table_from_dataframe(bigdata,table_id)\n",
    "    while job.state != 'DONE':\n",
    "        time.sleep(4)\n",
    "        job.reload()\n",
    "        print(f\"Data Upload Status : {job.state}\")\n",
    "\n",
    "except Exception as e:\n",
    "    pass"
   ]
  },
  {
   "cell_type": "markdown",
   "metadata": {},
   "source": [
    "### **Basic Data Cleaning**"
   ]
  },
  {
   "cell_type": "code",
   "execution_count": 63,
   "metadata": {
    "execution": {
     "iopub.execute_input": "2024-08-23T14:53:09.763239Z",
     "iopub.status.busy": "2024-08-23T14:53:09.762812Z",
     "iopub.status.idle": "2024-08-23T14:53:12.297299Z",
     "shell.execute_reply": "2024-08-23T14:53:12.295903Z",
     "shell.execute_reply.started": "2024-08-23T14:53:09.763206Z"
    },
    "trusted": true
   },
   "outputs": [
    {
     "name": "stdout",
     "output_type": "stream",
     "text": [
      "Rows of Real Estate Data in Google BigQuery : 68\n",
      "Cols of Real Estate Data in Google BigQuery : 12\n"
     ]
    }
   ],
   "source": [
    "# Define SQL Query to Retrieve Real Estate Data from Google Cloud BigQuery\n",
    "sql = (\n",
    "       'SELECT *'\n",
    "       'FROM `cronjobs.real_estate_data`'\n",
    "       )\n",
    "\n",
    "# Run SQL Query\n",
    "data = client.query(sql, timeout=3600).to_dataframe()\n",
    "print(f'Rows of Real Estate Data in Google BigQuery : {data.shape[0]:,.0f}\\nCols of Real Estate Data in Google BigQuery : {data.shape[1]:,.0f}')"
   ]
  },
  {
   "cell_type": "code",
   "execution_count": null,
   "metadata": {
    "execution": {
     "iopub.execute_input": "2024-08-22T12:07:43.574370Z",
     "iopub.status.busy": "2024-08-22T12:07:43.573913Z",
     "iopub.status.idle": "2024-08-22T12:07:43.588806Z",
     "shell.execute_reply": "2024-08-22T12:07:43.587558Z",
     "shell.execute_reply.started": "2024-08-22T12:07:43.574336Z"
    },
    "trusted": true
   },
   "outputs": [
    {
     "name": "stdout",
     "output_type": "stream",
     "text": [
      "Initial Shape of Dataset : (68, 12)\n",
      "Total Duplicate Records : 0\n",
      "Final Shape of Dataset : (68, 12)\n"
     ]
    }
   ],
   "source": [
    "# Check Total Number of Duplicate Records\n",
    "data['features'] = data['features'].astype(str)\n",
    "data['last_scraped'] = pd.to_datetime(data['last_scraped'], unit = 'ns')\n",
    "\n",
    "duplicated = data.duplicated(subset=[\n",
    "       'county', 'property_title', 'property_description', 'features', 'property_availability',\n",
    "       'property_location', 'property_address', 'floor_size', \n",
    "       'furnished', 'rental_rate', 'property_price'\n",
    "                                    ]).sum()\n",
    "\n",
    "# Remove Duplicate Records\n",
    "data.drop_duplicates(subset=[\n",
    "        'county', 'property_title', 'property_description', 'features', 'property_availability',\n",
    "       'property_location', 'property_address', 'floor_size', \n",
    "       'furnished', 'rental_rate', 'property_price'\n",
    "                            ],inplace=True)\n",
    "\n",
    "# Display Initial & Final Number of Duplicate Records\n",
    "print(f\"Initial Shape of Dataset : {data.shape}\\nTotal Duplicate Records : {duplicated:,.0f}\\nFinal Shape of Dataset : {data.shape}\")"
   ]
  },
  {
   "cell_type": "code",
   "execution_count": 62,
   "metadata": {
    "execution": {
     "iopub.execute_input": "2024-08-22T12:07:50.791368Z",
     "iopub.status.busy": "2024-08-22T12:07:50.790916Z",
     "iopub.status.idle": "2024-08-22T12:07:54.975413Z",
     "shell.execute_reply": "2024-08-22T12:07:54.974095Z",
     "shell.execute_reply.started": "2024-08-22T12:07:50.791331Z"
    },
    "trusted": true
   },
   "outputs": [
    {
     "name": "stdout",
     "output_type": "stream",
     "text": [
      "Real Estate Data Update : RUNNING\n",
      "Real Estate Data Update : DONE\n"
     ]
    }
   ],
   "source": [
    "# Drop Original Real Estate Table \n",
    "table_id = 'project-adrian-julius-aluoch.cronjobs.real_estate_data'\n",
    "client.delete_table(table_id)\n",
    "\n",
    "# Upload Final Real Estate Table\n",
    "job = client.load_table_from_dataframe(data,table_id)\n",
    "while job.state != 'DONE':\n",
    "    time.sleep(1)\n",
    "    job.reload()\n",
    "    print(f'Real Estate Data Update : {job.state}')"
   ]
  }
 ],
 "metadata": {
  "kaggle": {
   "accelerator": "none",
   "dataSources": [],
   "dockerImageVersionId": 30698,
   "isGpuEnabled": false,
   "isInternetEnabled": true,
   "language": "python",
   "sourceType": "notebook"
  },
  "kernelspec": {
   "display_name": "datanerdke",
   "language": "python",
   "name": "python3"
  },
  "language_info": {
   "codemirror_mode": {
    "name": "ipython",
    "version": 3
   },
   "file_extension": ".py",
   "mimetype": "text/x-python",
   "name": "python",
   "nbconvert_exporter": "python",
   "pygments_lexer": "ipython3",
   "version": "3.12.7"
  }
 },
 "nbformat": 4,
 "nbformat_minor": 4
}
